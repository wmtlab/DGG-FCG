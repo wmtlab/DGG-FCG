{
 "cells": [
  {
   "cell_type": "code",
   "execution_count": 2,
   "metadata": {},
   "outputs": [],
   "source": [
    "import numpy as np\n",
    "import torch"
   ]
  },
  {
   "cell_type": "code",
   "execution_count": 9,
   "metadata": {},
   "outputs": [
    {
     "name": "stdout",
     "output_type": "stream",
     "text": [
      "2547\n",
      "52\n",
      "38\n",
      "127\n",
      "53\n",
      "183\n"
     ]
    }
   ],
   "source": [
    "r = np.load('32_result.npy')\n",
    "for i in range(6):\n",
    "    print((r==i).sum())"
   ]
  },
  {
   "cell_type": "code",
   "execution_count": 7,
   "metadata": {},
   "outputs": [
    {
     "name": "stdout",
     "output_type": "stream",
     "text": [
      "2610\n",
      "203\n",
      "116\n",
      "27\n",
      "0\n",
      "44\n"
     ]
    }
   ],
   "source": [
    "for i in range(6):\n",
    "    print((r==i).sum())"
   ]
  },
  {
   "cell_type": "code",
   "execution_count": 187,
   "metadata": {},
   "outputs": [],
   "source": [
    "def cal_mIoU(pred, true, cal_cls=[0,1],device='cpu'):\n",
    "    \"\"\"\n",
    "    pred: size=(batch,N)\n",
    "    true: size=(batch,N)\n",
    "    cal_cls: [0,1,2,3,4,...]\n",
    "    \"\"\"\n",
    "\n",
    "    num_cls = len(cal_cls)\n",
    "    if not isinstance(pred,torch.Tensor):\n",
    "        pred = torch.tensor(pred).to(device)\n",
    "    if not isinstance(true,torch.Tensor):\n",
    "        true = torch.tensor(true).to(device)\n",
    "\n",
    "    iou = torch.zeros((num_cls)).to(device)\n",
    "    for i in range(num_cls):\n",
    "        a, b = pred==cal_cls[i], true==cal_cls[i]\n",
    "        iou[i] = (a & b).sum() / ((a | b).sum() + 1e-7) \n",
    "    mIoU = iou.mean()\n",
    "    return mIoU,iou"
   ]
  },
  {
   "cell_type": "code",
   "execution_count": 210,
   "metadata": {},
   "outputs": [],
   "source": [
    "p,t = [],[]\n",
    "for i in range(20):\n",
    "    pred = np.random.randint(0,6,(10,3000))\n",
    "    true = np.random.randint(0,6,(10,3000))\n",
    "    mIoU, iou_batch = cal_mIoU(pred,true,cal_cls=[1,2,3,4,5],device='cuda')"
   ]
  },
  {
   "cell_type": "code",
   "execution_count": 184,
   "metadata": {},
   "outputs": [
    {
     "data": {
      "text/plain": [
       "(tensor(0.0909, device='cuda:0'),\n",
       " tensor([0.0909, 0.0910, 0.0910, 0.0909, 0.0909], device='cuda:0'))"
      ]
     },
     "execution_count": 184,
     "metadata": {},
     "output_type": "execute_result"
    }
   ],
   "source": [
    "mIoU,iou_batch"
   ]
  },
  {
   "cell_type": "code",
   "execution_count": 195,
   "metadata": {},
   "outputs": [],
   "source": [
    "pred = torch.rand([1, 6, 3000])"
   ]
  },
  {
   "cell_type": "code",
   "execution_count": 203,
   "metadata": {},
   "outputs": [
    {
     "data": {
      "text/plain": [
       "torch.Size([1, 3000])"
      ]
     },
     "execution_count": 203,
     "metadata": {},
     "output_type": "execute_result"
    }
   ],
   "source": [
    "pred.max(1)[1].shape"
   ]
  },
  {
   "cell_type": "code",
   "execution_count": 227,
   "metadata": {},
   "outputs": [],
   "source": [
    "pc = torch.rand((10,3,3000))\n",
    "mask = torch.Tensor(pred).unsqueeze(1)==1"
   ]
  },
  {
   "cell_type": "code",
   "execution_count": 249,
   "metadata": {},
   "outputs": [
    {
     "data": {
      "text/plain": [
       "(10, 3000)"
      ]
     },
     "execution_count": 249,
     "metadata": {},
     "output_type": "execute_result"
    }
   ],
   "source": [
    "pred.shape"
   ]
  },
  {
   "cell_type": "code",
   "execution_count": 229,
   "metadata": {},
   "outputs": [
    {
     "data": {
      "text/plain": [
       "tensor([[[0.0000, 0.0000, 0.0000,  ..., 0.2200, 0.0000, 0.3323],\n",
       "         [0.0000, 0.0000, 0.0000,  ..., 0.7341, 0.0000, 0.2202],\n",
       "         [0.0000, 0.0000, 0.0000,  ..., 0.4318, 0.0000, 0.9321]],\n",
       "\n",
       "        [[0.0000, 0.9469, 0.0000,  ..., 0.0000, 0.0000, 0.0000],\n",
       "         [0.0000, 0.4586, 0.0000,  ..., 0.0000, 0.0000, 0.0000],\n",
       "         [0.0000, 0.1418, 0.0000,  ..., 0.0000, 0.0000, 0.0000]],\n",
       "\n",
       "        [[0.0000, 0.0000, 0.0000,  ..., 0.0000, 0.1468, 0.0602],\n",
       "         [0.0000, 0.0000, 0.0000,  ..., 0.0000, 0.5488, 0.5393],\n",
       "         [0.0000, 0.0000, 0.0000,  ..., 0.0000, 0.5953, 0.3141]],\n",
       "\n",
       "        ...,\n",
       "\n",
       "        [[0.0000, 0.0000, 0.0000,  ..., 0.0000, 0.0000, 0.0000],\n",
       "         [0.0000, 0.0000, 0.0000,  ..., 0.0000, 0.0000, 0.0000],\n",
       "         [0.0000, 0.0000, 0.0000,  ..., 0.0000, 0.0000, 0.0000]],\n",
       "\n",
       "        [[0.0000, 0.0000, 0.0000,  ..., 0.0000, 0.0000, 0.0000],\n",
       "         [0.0000, 0.0000, 0.0000,  ..., 0.0000, 0.0000, 0.0000],\n",
       "         [0.0000, 0.0000, 0.0000,  ..., 0.0000, 0.0000, 0.0000]],\n",
       "\n",
       "        [[0.0000, 0.4535, 0.0431,  ..., 0.0000, 0.0000, 0.0000],\n",
       "         [0.0000, 0.7606, 0.4587,  ..., 0.0000, 0.0000, 0.0000],\n",
       "         [0.0000, 0.6290, 0.0623,  ..., 0.0000, 0.0000, 0.0000]]])"
      ]
     },
     "execution_count": 229,
     "metadata": {},
     "output_type": "execute_result"
    }
   ],
   "source": [
    "mask*pc"
   ]
  },
  {
   "cell_type": "code",
   "execution_count": 251,
   "metadata": {},
   "outputs": [
    {
     "data": {
      "text/plain": [
       "tensor([[498],\n",
       "        [501],\n",
       "        [518],\n",
       "        [490],\n",
       "        [482],\n",
       "        [494],\n",
       "        [477],\n",
       "        [521],\n",
       "        [486],\n",
       "        [526]])"
      ]
     },
     "execution_count": 251,
     "metadata": {},
     "output_type": "execute_result"
    }
   ],
   "source": [
    "mask.sum(dim=2)"
   ]
  },
  {
   "cell_type": "code",
   "execution_count": 252,
   "metadata": {},
   "outputs": [
    {
     "data": {
      "text/plain": [
       "tensor([[0.5269, 0.5143, 0.5058],\n",
       "        [0.4988, 0.5079, 0.4959],\n",
       "        [0.4909, 0.5151, 0.4845],\n",
       "        [0.5121, 0.4927, 0.4964],\n",
       "        [0.5051, 0.5056, 0.4916],\n",
       "        [0.4858, 0.4957, 0.4980],\n",
       "        [0.5086, 0.4800, 0.5029],\n",
       "        [0.5048, 0.4955, 0.4860],\n",
       "        [0.5020, 0.4946, 0.4940],\n",
       "        [0.5078, 0.5058, 0.4788]])"
      ]
     },
     "execution_count": 252,
     "metadata": {},
     "output_type": "execute_result"
    }
   ],
   "source": [
    "mean_xyz = (mask*pc).sum(-1)/mask.sum(dim=2)\n",
    "mean_xyz"
   ]
  },
  {
   "cell_type": "code",
   "execution_count": 253,
   "metadata": {},
   "outputs": [
    {
     "data": {
      "text/plain": [
       "tensor([0.2498, 0.2452, 0.2463, 0.2470, 0.2477, 0.2530, 0.2463, 0.2542, 0.2469,\n",
       "        0.2485])"
      ]
     },
     "execution_count": 253,
     "metadata": {},
     "output_type": "execute_result"
    }
   ],
   "source": [
    "var_temp = ((mask*pc - mean_xyz.unsqueeze(-1))**2).sum(1)*mask.squeeze(1)\n",
    "(var_temp).sum(1)/mask.sum(dim=2).squeeze(1)"
   ]
  },
  {
   "cell_type": "code",
   "execution_count": 3,
   "metadata": {},
   "outputs": [],
   "source": [
    "a = torch.tensor([0.3213, 0.0608, 0.0665, 0.0730, 0.0813, 0.1210])\n",
    "b = torch.tensor([0.3370, 0.0320, 0.0433, 0.0593, 0.0749, 0.0886])"
   ]
  },
  {
   "cell_type": "code",
   "execution_count": 6,
   "metadata": {},
   "outputs": [],
   "source": [
    "a = torch.tensor([0.3224, 0.0446, 0.0361, 0.0276, 0.0217, 0.0470])\n",
    "b = torch.tensor([0.3383, 0.0169, 0.0131, 0.0141, 0.0146, 0.0139])"
   ]
  },
  {
   "cell_type": "code",
   "execution_count": 7,
   "metadata": {},
   "outputs": [
    {
     "data": {
      "text/plain": [
       "tensor([  4.7000, 163.9053, 175.5725,  95.7447,  48.6301, 238.1295])"
      ]
     },
     "execution_count": 7,
     "metadata": {},
     "output_type": "execute_result"
    }
   ],
   "source": [
    "(torch.abs(a - b) / b)*100"
   ]
  },
  {
   "cell_type": "code",
   "execution_count": null,
   "metadata": {},
   "outputs": [],
   "source": []
  }
 ],
 "metadata": {
  "kernelspec": {
   "display_name": "base",
   "language": "python",
   "name": "python3"
  },
  "language_info": {
   "codemirror_mode": {
    "name": "ipython",
    "version": 3
   },
   "file_extension": ".py",
   "mimetype": "text/x-python",
   "name": "python",
   "nbconvert_exporter": "python",
   "pygments_lexer": "ipython3",
   "version": "3.8.13"
  },
  "orig_nbformat": 4
 },
 "nbformat": 4,
 "nbformat_minor": 2
}
